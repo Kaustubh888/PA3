{
 "cells": [
  {
   "cell_type": "code",
   "execution_count": null,
   "id": "2bd5bea9",
   "metadata": {},
   "outputs": [],
   "source": [
    "1.\n",
    "\n",
    "=   a1=float(input(\"Enter a number:\"))\n",
    "    if a1>0:\n",
    "         print(\"It's a positive number\")\n",
    "    elif a1==0:\n",
    "         print(\"It's a Zero\")\n",
    "    elif a1<0:\n",
    "         print(\"It's a negative number\")"
   ]
  },
  {
   "cell_type": "code",
   "execution_count": null,
   "id": "00ced43c",
   "metadata": {},
   "outputs": [],
   "source": [
    "2.\n",
    "\n",
    "=   b1=float(input(\"Enter a number:\"))\n",
    "    if b1%2==0:\n",
    "        print(\"It's a even number\")\n",
    "    else:\n",
    "        print(\"It's a odd number\")"
   ]
  },
  {
   "cell_type": "code",
   "execution_count": null,
   "id": "ad42547c",
   "metadata": {},
   "outputs": [],
   "source": [
    "3.\n",
    "\n",
    "=   import calendar\n",
    "    def checkYear(year):\n",
    "        return(calendar.isleap(year))\n",
    "    year=int(input(\"Enter the year:\"))\n",
    "    if (checkYear(year)):\n",
    "        print(\"Leap Year\")\n",
    "    else:\n",
    "        print(\"Not a Leap Year\")"
   ]
  },
  {
   "cell_type": "code",
   "execution_count": null,
   "id": "65e65425",
   "metadata": {},
   "outputs": [],
   "source": [
    "4.\n",
    "\n",
    "=   num = int(input(\"Enter number:\"))\n",
    "    if num > 1:\n",
    "        for i in range(2, num//2):\n",
    "            if (num % i) == 0:\n",
    "                print(num, \"is not a prime number\")\n",
    "                break\n",
    "        else:\n",
    "            print(num, \"is a prime number\")\n",
    "    else:\n",
    "        print(num, \"is not a prime number\")"
   ]
  },
  {
   "cell_type": "code",
   "execution_count": null,
   "id": "475a1bb0",
   "metadata": {},
   "outputs": [],
   "source": [
    "5.\n",
    "\n",
    "=   start = int(input(\"Enter start value: \"))\n",
    "    stop = int(input(\"Enter stop value: \"))\n",
    "    \n",
    "    for num in range(start+1, stop+1):\n",
    "        for x in range(2,num):\n",
    "            if num%x==0:\n",
    "                break\n",
    "        else:\n",
    "            print(num)"
   ]
  }
 ],
 "metadata": {
  "kernelspec": {
   "display_name": "Python 3",
   "language": "python",
   "name": "python3"
  },
  "language_info": {
   "codemirror_mode": {
    "name": "ipython",
    "version": 3
   },
   "file_extension": ".py",
   "mimetype": "text/x-python",
   "name": "python",
   "nbconvert_exporter": "python",
   "pygments_lexer": "ipython3",
   "version": "3.8.8"
  }
 },
 "nbformat": 4,
 "nbformat_minor": 5
}
